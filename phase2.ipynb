{
 "cells": [
  {
   "cell_type": "markdown",
   "id": "d34c9626",
   "metadata": {},
   "source": [
    "# NumPy Array Operation"
   ]
  },
  {
   "cell_type": "code",
   "execution_count": 2,
   "id": "52109f87",
   "metadata": {},
   "outputs": [],
   "source": [
    "import numpy as np"
   ]
  },
  {
   "cell_type": "markdown",
   "id": "f1a3d26b",
   "metadata": {},
   "source": [
    "## Array Slicing"
   ]
  },
  {
   "cell_type": "markdown",
   "id": "0d98e563",
   "metadata": {},
   "source": [
    "### 1. Basic Slicing"
   ]
  },
  {
   "cell_type": "code",
   "execution_count": 12,
   "id": "2420c789",
   "metadata": {},
   "outputs": [
    {
     "name": "stdout",
     "output_type": "stream",
     "text": [
      "[1 2 3 4 5 6 7 8 9]\n",
      "Basic Slicing: [3 4 5 6 7]\n",
      "With Step: [3 5 7]\n",
      "Negative Indexing: 7\n"
     ]
    }
   ],
   "source": [
    "arr = np.arange(9)\n",
    "arr=arr+1\n",
    "print(arr)\n",
    "print(f\"Basic Slicing: {arr[2:7]}\")\n",
    "print(f\"With Step: {arr[2:7:2]}\")\n",
    "print(f\"Negative Indexing: {arr[-3]}\")"
   ]
  },
  {
   "cell_type": "markdown",
   "id": "85a53f5a",
   "metadata": {},
   "source": [
    "### 2. Slicing 2D array"
   ]
  },
  {
   "cell_type": "code",
   "execution_count": 21,
   "id": "ee0a6968",
   "metadata": {},
   "outputs": [
    {
     "name": "stdout",
     "output_type": "stream",
     "text": [
      "[[1 2 3]\n",
      " [4 5 6]\n",
      " [7 8 9]]\n",
      "The second element of 1st row is: 6\n",
      "The Entire 1st row is: [4 5 6]\n",
      "The Entire 0th column is: [1 4 7]\n",
      "NB: Indices start from 0\n"
     ]
    }
   ],
   "source": [
    "arr_2d = np.array([\n",
    "    [1,2,3],\n",
    "    [4,5,6],\n",
    "    [7,8,9]\n",
    "])\n",
    "\n",
    "print(arr_2d)\n",
    "\n",
    "print(f\"The second element of 1st row is: {arr_2d[1,2]}\") # numpy syntax, not available in basic python\n",
    "print(f\"The Entire 1st row is: {arr_2d[1]}\")\n",
    "print(f\"The Entire 0th column is: {arr_2d[:,0]}\") # entire column\n",
    "print(\"NB: Indices start from 0\")\n"
   ]
  },
  {
   "cell_type": "markdown",
   "id": "2f91c16f",
   "metadata": {},
   "source": [
    "### Sorting"
   ]
  },
  {
   "cell_type": "code",
   "execution_count": 22,
   "id": "7c47807b",
   "metadata": {},
   "outputs": [
    {
     "name": "stdout",
     "output_type": "stream",
     "text": [
      "Sorted array: [ 1  1  2  3  4  4  5  6  7 23 23 33 34 44]\n"
     ]
    }
   ],
   "source": [
    "unsorted_arr = np.array([1,5,1,7,4,4,3,44,2,6,23,33,34,23])\n",
    "print(f\"Sorted array: {np.sort(unsorted_arr)}\")"
   ]
  },
  {
   "cell_type": "markdown",
   "id": "1448798b",
   "metadata": {},
   "source": [
    "### Sorting 2D array"
   ]
  },
  {
   "cell_type": "code",
   "execution_count": 38,
   "id": "b72ab46b",
   "metadata": {},
   "outputs": [
    {
     "name": "stdout",
     "output_type": "stream",
     "text": [
      "[[3 1]\n",
      " [1 2]\n",
      " [2 3]]\n",
      "Sorting based on column:\n",
      " [[1 1]\n",
      " [2 2]\n",
      " [3 3]]\n",
      "Sorting based on row:\n",
      " [[1 3]\n",
      " [1 2]\n",
      " [2 3]]\n",
      "The original 2D array is:\n",
      " [[3 1]\n",
      " [1 2]\n",
      " [2 3]]\n",
      "Sorting col 0:\n",
      " [1 2 3]\n"
     ]
    }
   ],
   "source": [
    "arr_2d_unsorted = np.array([\n",
    "    [3,1],\n",
    "    [1,2],\n",
    "    [2,3]\n",
    "])\n",
    "print(arr_2d_unsorted)\n",
    "\n",
    "print(f\"Sorting based on column:\\n {np.sort(arr_2d_unsorted, 0)}\")\n",
    "print(f\"Sorting based on row:\\n {np.sort(arr_2d_unsorted, 1)}\")\n",
    "print(f\"The original 2D array is:\\n {arr_2d_unsorted}\")\n",
    "print(f\"Sorting col 0:\\n {np.sort(arr_2d_unsorted[:, 0], 0)}\")"
   ]
  },
  {
   "cell_type": "markdown",
   "id": "80949229",
   "metadata": {},
   "source": [
    "### Filtering Array"
   ]
  },
  {
   "cell_type": "code",
   "execution_count": null,
   "id": "63757314",
   "metadata": {},
   "outputs": [
    {
     "name": "stdout",
     "output_type": "stream",
     "text": [
      "[ 0  1  2  3  4  5  6  7  8  9 10]\n",
      "Even numbers are:\n",
      " [ 0  2  4  6  8 10]\n",
      "[ 0  1  2  3  4  5  6  7  8  9 10]\n"
     ]
    }
   ],
   "source": [
    "numbers = np.arange(11)\n",
    "print(numbers)\n",
    "print(f\"Even numbers are:\\n {numbers[numbers%2 == 0]}\")"
   ]
  },
  {
   "cell_type": "markdown",
   "id": "a1a584f0",
   "metadata": {},
   "source": [
    "### Filtering with Mask"
   ]
  },
  {
   "cell_type": "code",
   "execution_count": null,
   "id": "7958fe88",
   "metadata": {},
   "outputs": [
    {
     "name": "stdout",
     "output_type": "stream",
     "text": [
      "Masked filtering: [ 0  5 10]\n",
      "[ 0  1  2  3  4  5  6  7  8  9 10]\n"
     ]
    }
   ],
   "source": [
    "mask = numbers % 5 == 0\n",
    "print(f\"Masked filtering: {numbers[mask]}\")"
   ]
  },
  {
   "cell_type": "markdown",
   "id": "746d9da2",
   "metadata": {},
   "source": [
    "### Fancy Indexing and np.where()"
   ]
  },
  {
   "cell_type": "code",
   "execution_count": 76,
   "id": "b59f8c2d",
   "metadata": {},
   "outputs": [
    {
     "name": "stdout",
     "output_type": "stream",
     "text": [
      "[19 20 21 22 23 24 25 26 27 28 29]\n",
      "[19 21 23 24 20]\n",
      "Using where clause: [25 26 27 28 29]\n",
      "[1 2 3 4 5 6]\n",
      "[ 2  3  4  5  6 30]\n"
     ]
    }
   ],
   "source": [
    "numbers+=1\n",
    "print(numbers)\n",
    "idx = [0,2,4,5, 1]\n",
    "print(numbers[idx])\n",
    "\n",
    "np_where = np.where((numbers >= 25)  & (numbers < 30))\n",
    "print(f\"Using where clause: {numbers[np_where]}\")\n",
    "\n",
    "num = np.array([1,2,3,4,5,6])\n",
    "print(num)\n",
    "req_arr = np.where(num> 5, num*5, num+1)\n",
    "print(req_arr)"
   ]
  },
  {
   "cell_type": "markdown",
   "id": "55edaf81",
   "metadata": {},
   "source": [
    "### Adding and Removing Data"
   ]
  },
  {
   "cell_type": "code",
   "execution_count": 95,
   "id": "78f2d5c5",
   "metadata": {},
   "outputs": [
    {
     "name": "stdout",
     "output_type": "stream",
     "text": [
      "[ 1  2  3  4  5  2  3  4 44 55]\n",
      "[2 4 5]\n"
     ]
    }
   ],
   "source": [
    "a1 = np.array([1,2,3,4,5])\n",
    "a2 = np.array([2,3,4,44,55])\n",
    "combine_arr = np.concatenate((a1, a2))\n",
    "print(combine_arr)\n",
    "\n",
    "deleted = np.delete(a1,np.s_[0:3:2])\n",
    "print(deleted)"
   ]
  },
  {
   "cell_type": "markdown",
   "id": "18b68b42",
   "metadata": {},
   "source": [
    "### Converting lower dimension array to high dimension"
   ]
  },
  {
   "cell_type": "code",
   "execution_count": 90,
   "id": "92c6d013",
   "metadata": {},
   "outputs": [
    {
     "name": "stdout",
     "output_type": "stream",
     "text": [
      "[[1 2 3]\n",
      " [5 6 7]]\n",
      "[[1 5]\n",
      " [2 6]\n",
      " [3 7]]\n"
     ]
    }
   ],
   "source": [
    "a1 = np.array([1,2,3])\n",
    "a2 = np.array([5,6,7])\n",
    "print(np.stack((a1, a2), 0)) # row\n",
    "print(np.stack((a1, a2), 1)) # column"
   ]
  },
  {
   "cell_type": "markdown",
   "id": "0dd8af94",
   "metadata": {},
   "source": [
    "### Shape Compatability"
   ]
  },
  {
   "cell_type": "code",
   "execution_count": 91,
   "id": "2eee555d",
   "metadata": {},
   "outputs": [
    {
     "name": "stdout",
     "output_type": "stream",
     "text": [
      "False\n",
      "False\n",
      "True\n"
     ]
    }
   ],
   "source": [
    "a = np.array([1,2,3])\n",
    "b = np.array([4,5,6,7])\n",
    "c = np.array([7,8,9])\n",
    "print(a.shape==b.shape)\n",
    "print(b.shape==c.shape)\n",
    "print(c.shape==a.shape)"
   ]
  },
  {
   "cell_type": "code",
   "execution_count": null,
   "id": "3bfc950c",
   "metadata": {},
   "outputs": [],
   "source": []
  }
 ],
 "metadata": {
  "kernelspec": {
   "display_name": "venv (3.13.3)",
   "language": "python",
   "name": "python3"
  },
  "language_info": {
   "codemirror_mode": {
    "name": "ipython",
    "version": 3
   },
   "file_extension": ".py",
   "mimetype": "text/x-python",
   "name": "python",
   "nbconvert_exporter": "python",
   "pygments_lexer": "ipython3",
   "version": "3.13.3"
  }
 },
 "nbformat": 4,
 "nbformat_minor": 5
}
