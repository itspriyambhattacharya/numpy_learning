{
 "cells": [
  {
   "cell_type": "markdown",
   "id": "d34c9626",
   "metadata": {},
   "source": [
    "# NumPy Array Operation"
   ]
  },
  {
   "cell_type": "code",
   "execution_count": 2,
   "id": "52109f87",
   "metadata": {},
   "outputs": [],
   "source": [
    "import numpy as np"
   ]
  },
  {
   "cell_type": "markdown",
   "id": "f1a3d26b",
   "metadata": {},
   "source": [
    "## Array Slicing"
   ]
  },
  {
   "cell_type": "markdown",
   "id": "0d98e563",
   "metadata": {},
   "source": [
    "### 1. Basic Slicing"
   ]
  },
  {
   "cell_type": "code",
   "execution_count": 12,
   "id": "2420c789",
   "metadata": {},
   "outputs": [
    {
     "name": "stdout",
     "output_type": "stream",
     "text": [
      "[1 2 3 4 5 6 7 8 9]\n",
      "Basic Slicing: [3 4 5 6 7]\n",
      "With Step: [3 5 7]\n",
      "Negative Indexing: 7\n"
     ]
    }
   ],
   "source": [
    "arr = np.arange(9)\n",
    "arr=arr+1\n",
    "print(arr)\n",
    "print(f\"Basic Slicing: {arr[2:7]}\")\n",
    "print(f\"With Step: {arr[2:7:2]}\")\n",
    "print(f\"Negative Indexing: {arr[-3]}\")"
   ]
  },
  {
   "cell_type": "markdown",
   "id": "85a53f5a",
   "metadata": {},
   "source": [
    "### 2. Slicing 2D array"
   ]
  },
  {
   "cell_type": "code",
   "execution_count": 21,
   "id": "ee0a6968",
   "metadata": {},
   "outputs": [
    {
     "name": "stdout",
     "output_type": "stream",
     "text": [
      "[[1 2 3]\n",
      " [4 5 6]\n",
      " [7 8 9]]\n",
      "The second element of 1st row is: 6\n",
      "The Entire 1st row is: [4 5 6]\n",
      "The Entire 0th column is: [1 4 7]\n",
      "NB: Indices start from 0\n"
     ]
    }
   ],
   "source": [
    "arr_2d = np.array([\n",
    "    [1,2,3],\n",
    "    [4,5,6],\n",
    "    [7,8,9]\n",
    "])\n",
    "\n",
    "print(arr_2d)\n",
    "\n",
    "print(f\"The second element of 1st row is: {arr_2d[1,2]}\") # numpy syntax, not available in basic python\n",
    "print(f\"The Entire 1st row is: {arr_2d[1]}\")\n",
    "print(f\"The Entire 0th column is: {arr_2d[:,0]}\") # entire column\n",
    "print(\"NB: Indices start from 0\")\n"
   ]
  },
  {
   "cell_type": "markdown",
   "id": "2f91c16f",
   "metadata": {},
   "source": [
    "### Sorting"
   ]
  },
  {
   "cell_type": "code",
   "execution_count": 22,
   "id": "7c47807b",
   "metadata": {},
   "outputs": [
    {
     "name": "stdout",
     "output_type": "stream",
     "text": [
      "Sorted array: [ 1  1  2  3  4  4  5  6  7 23 23 33 34 44]\n"
     ]
    }
   ],
   "source": [
    "unsorted_arr = np.array([1,5,1,7,4,4,3,44,2,6,23,33,34,23])\n",
    "print(f\"Sorted array: {np.sort(unsorted_arr)}\")"
   ]
  },
  {
   "cell_type": "code",
   "execution_count": null,
   "id": "63757314",
   "metadata": {},
   "outputs": [],
   "source": []
  }
 ],
 "metadata": {
  "kernelspec": {
   "display_name": "venv (3.13.3)",
   "language": "python",
   "name": "python3"
  },
  "language_info": {
   "codemirror_mode": {
    "name": "ipython",
    "version": 3
   },
   "file_extension": ".py",
   "mimetype": "text/x-python",
   "name": "python",
   "nbconvert_exporter": "python",
   "pygments_lexer": "ipython3",
   "version": "3.13.3"
  }
 },
 "nbformat": 4,
 "nbformat_minor": 5
}
