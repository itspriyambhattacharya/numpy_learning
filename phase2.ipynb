{
 "cells": [
  {
   "cell_type": "markdown",
   "id": "d34c9626",
   "metadata": {},
   "source": [
    "# NumPy Array Operation"
   ]
  },
  {
   "cell_type": "code",
   "execution_count": 2,
   "id": "52109f87",
   "metadata": {},
   "outputs": [],
   "source": [
    "import numpy as np"
   ]
  },
  {
   "cell_type": "markdown",
   "id": "f1a3d26b",
   "metadata": {},
   "source": [
    "## Array Slicing"
   ]
  },
  {
   "cell_type": "markdown",
   "id": "0d98e563",
   "metadata": {},
   "source": [
    "### 1. Basic Slicing"
   ]
  },
  {
   "cell_type": "code",
   "execution_count": 12,
   "id": "2420c789",
   "metadata": {},
   "outputs": [
    {
     "name": "stdout",
     "output_type": "stream",
     "text": [
      "[1 2 3 4 5 6 7 8 9]\n",
      "Basic Slicing: [3 4 5 6 7]\n",
      "With Step: [3 5 7]\n",
      "Negative Indexing: 7\n"
     ]
    }
   ],
   "source": [
    "arr = np.arange(9)\n",
    "arr=arr+1\n",
    "print(arr)\n",
    "print(f\"Basic Slicing: {arr[2:7]}\")\n",
    "print(f\"With Step: {arr[2:7:2]}\")\n",
    "print(f\"Negative Indexing: {arr[-3]}\")"
   ]
  },
  {
   "cell_type": "markdown",
   "id": "85a53f5a",
   "metadata": {},
   "source": [
    "### 2. Slicing 2D array"
   ]
  },
  {
   "cell_type": "code",
   "execution_count": null,
   "id": "ee0a6968",
   "metadata": {},
   "outputs": [],
   "source": [
    "arr_2d = np.array([\n",
    "    [1,2,3],\n",
    "    [4,5,6],\n",
    "    [7,8,9]\n",
    "])"
   ]
  }
 ],
 "metadata": {
  "kernelspec": {
   "display_name": "venv (3.13.3)",
   "language": "python",
   "name": "python3"
  },
  "language_info": {
   "codemirror_mode": {
    "name": "ipython",
    "version": 3
   },
   "file_extension": ".py",
   "mimetype": "text/x-python",
   "name": "python",
   "nbconvert_exporter": "python",
   "pygments_lexer": "ipython3",
   "version": "3.13.3"
  }
 },
 "nbformat": 4,
 "nbformat_minor": 5
}
