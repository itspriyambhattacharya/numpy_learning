{
 "cells": [
  {
   "cell_type": "markdown",
   "id": "a04aa918",
   "metadata": {},
   "source": [
    "# Advance Operations with Business Examples"
   ]
  },
  {
   "cell_type": "code",
   "execution_count": 1,
   "id": "47b5313e",
   "metadata": {},
   "outputs": [],
   "source": [
    "import numpy as np\n",
    "import matplotlib.pyplot as plt"
   ]
  },
  {
   "cell_type": "code",
   "execution_count": 3,
   "id": "1667a303",
   "metadata": {},
   "outputs": [
    {
     "name": "stdout",
     "output_type": "stream",
     "text": [
      "==================== Zomate Sales Report ====================\n",
      "[[     1 150000 180000 220000 250000]\n",
      " [     2 120000 140000 160000 190000]\n",
      " [     3 200000 230000 260000 300000]\n",
      " [     4 180000 210000 240000 270000]\n",
      " [     5 160000 185000 205000 230000]]\n"
     ]
    }
   ],
   "source": [
    "sales_data = np.array([\n",
    "    [1, 150000, 180000, 220000, 250000],\n",
    "    [2, 120000, 140000, 160000, 190000],\n",
    "    [3, 200000, 230000, 260000, 300000],\n",
    "    [4, 180000, 210000, 240000, 270000],\n",
    "    [5, 160000, 185000, 205000, 230000]\n",
    "])\n",
    "\n",
    "print(\"==================== Zomate Sales Report ====================\")\n",
    "print(sales_data)"
   ]
  },
  {
   "cell_type": "code",
   "execution_count": null,
   "id": "2a059c15",
   "metadata": {},
   "outputs": [],
   "source": []
  }
 ],
 "metadata": {
  "kernelspec": {
   "display_name": "venv (3.13.3)",
   "language": "python",
   "name": "python3"
  },
  "language_info": {
   "codemirror_mode": {
    "name": "ipython",
    "version": 3
   },
   "file_extension": ".py",
   "mimetype": "text/x-python",
   "name": "python",
   "nbconvert_exporter": "python",
   "pygments_lexer": "ipython3",
   "version": "3.13.3"
  }
 },
 "nbformat": 4,
 "nbformat_minor": 5
}
