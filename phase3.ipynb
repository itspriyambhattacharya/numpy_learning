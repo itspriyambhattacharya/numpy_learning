{
 "cells": [
  {
   "cell_type": "markdown",
   "id": "a04aa918",
   "metadata": {},
   "source": [
    "# Advance Operations with Business Examples"
   ]
  },
  {
   "cell_type": "code",
   "execution_count": 3,
   "id": "47b5313e",
   "metadata": {},
   "outputs": [],
   "source": [
    "import numpy as np\n",
    "import matplotlib.pyplot as plt"
   ]
  },
  {
   "cell_type": "code",
   "execution_count": 4,
   "id": "1667a303",
   "metadata": {},
   "outputs": [
    {
     "name": "stdout",
     "output_type": "stream",
     "text": [
      "==================== Zomate Sales Report ====================\n",
      "[[     1 150000 180000 220000 250000]\n",
      " [     2 120000 140000 160000 190000]\n",
      " [     3 200000 230000 260000 300000]\n",
      " [     4 180000 210000 240000 270000]\n",
      " [     5 160000 185000 205000 230000]]\n",
      "Shape of the sales data is: (5, 5)\n"
     ]
    }
   ],
   "source": [
    "sales_data = np.array([\n",
    "    [1, 150000, 180000, 220000, 250000],\n",
    "    [2, 120000, 140000, 160000, 190000],\n",
    "    [3, 200000, 230000, 260000, 300000],\n",
    "    [4, 180000, 210000, 240000, 270000],\n",
    "    [5, 160000, 185000, 205000, 230000]\n",
    "])\n",
    "\n",
    "print(\"==================== Zomate Sales Report ====================\")\n",
    "print(sales_data)\n",
    "sales_data_shape = sales_data.shape\n",
    "print(f\"Shape of the sales data is: {sales_data_shape}\")"
   ]
  },
  {
   "cell_type": "markdown",
   "id": "85da679b",
   "metadata": {},
   "source": [
    "### Q1. Display the data of first three restaurants"
   ]
  },
  {
   "cell_type": "code",
   "execution_count": 5,
   "id": "2a059c15",
   "metadata": {},
   "outputs": [
    {
     "name": "stdout",
     "output_type": "stream",
     "text": [
      "[[     1 150000 180000 220000 250000]\n",
      " [     2 120000 140000 160000 190000]\n",
      " [     3 200000 230000 260000 300000]]\n",
      "\n",
      "[[150000 180000 220000 250000]\n",
      " [120000 140000 160000 190000]\n",
      " [200000 230000 260000 300000]\n",
      " [180000 210000 240000 270000]\n",
      " [160000 185000 205000 230000]]\n"
     ]
    }
   ],
   "source": [
    "res1 = sales_data[0:3]\n",
    "res2 = sales_data[:, 1:]\n",
    "print(res1)\n",
    "print()\n",
    "print(res2)"
   ]
  },
  {
   "cell_type": "markdown",
   "id": "074c4693",
   "metadata": {},
   "source": [
    "### Q2. Find the total sales per year for each restaurant."
   ]
  },
  {
   "cell_type": "code",
   "execution_count": 8,
   "id": "3252ccb9",
   "metadata": {},
   "outputs": [
    {
     "name": "stdout",
     "output_type": "stream",
     "text": [
      "[800000 610000 990000 900000 780000]\n",
      "4080000\n"
     ]
    }
   ],
   "source": [
    "total_sales = np.sum(sales_data[:, 1:], axis=1)\n",
    "print(total_sales)\n",
    "res = np.sum(total_sales)\n",
    "print(res)"
   ]
  },
  {
   "cell_type": "markdown",
   "id": "54d8b013",
   "metadata": {},
   "source": [
    "# Q3. (i). Find the Minimum sales per restaurant.\n",
    "# (ii). Find maximum sales per year."
   ]
  },
  {
   "cell_type": "code",
   "execution_count": 10,
   "id": "a19685a1",
   "metadata": {},
   "outputs": [
    {
     "name": "stdout",
     "output_type": "stream",
     "text": [
      "[150000 120000 200000 180000 160000]\n",
      "[200000 230000 260000 300000]\n"
     ]
    }
   ],
   "source": [
    "min_sales = np.min(sales_data[:,1:], 1)\n",
    "print(min_sales)\n",
    "max_sales_per_year = np.max(sales_data[:,1:], 0)\n",
    "print(max_sales_per_year)"
   ]
  },
  {
   "cell_type": "code",
   "execution_count": null,
   "id": "6c66032f",
   "metadata": {},
   "outputs": [],
   "source": []
  }
 ],
 "metadata": {
  "kernelspec": {
   "display_name": "venv (3.13.3)",
   "language": "python",
   "name": "python3"
  },
  "language_info": {
   "codemirror_mode": {
    "name": "ipython",
    "version": 3
   },
   "file_extension": ".py",
   "mimetype": "text/x-python",
   "name": "python",
   "nbconvert_exporter": "python",
   "pygments_lexer": "ipython3",
   "version": "3.13.3"
  }
 },
 "nbformat": 4,
 "nbformat_minor": 5
}
