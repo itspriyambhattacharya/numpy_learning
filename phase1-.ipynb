{
 "cells": [
  {
   "cell_type": "code",
   "execution_count": null,
   "id": "dc3ccd01",
   "metadata": {},
   "outputs": [],
   "source": [
    "## Learning Numpy for the first time.\n",
    "## Numpy Array Basics\n",
    "## Day 1"
   ]
  },
  {
   "cell_type": "code",
   "execution_count": 5,
   "id": "317971b2",
   "metadata": {},
   "outputs": [],
   "source": [
    "import numpy as np"
   ]
  },
  {
   "cell_type": "markdown",
   "id": "8712cf85",
   "metadata": {},
   "source": [
    "### Creating Array from List"
   ]
  },
  {
   "cell_type": "code",
   "execution_count": 4,
   "id": "81245d7f",
   "metadata": {},
   "outputs": [
    {
     "name": "stdout",
     "output_type": "stream",
     "text": [
      "1D array is: [1 2 3 4 5]\n",
      "2D array is: [[1 2 3]\n",
      " [4 5 6]]\n"
     ]
    }
   ],
   "source": [
    "arr_1D = np.array([1,2,3,4,5])\n",
    "arr_2D = np.array([[1,2,3], [4,5,6]])\n",
    "print(f\"1D array is: {arr_1D}\")\n",
    "print(f\"2D array is: {arr_2D}\")"
   ]
  },
  {
   "cell_type": "markdown",
   "id": "b55dcae9",
   "metadata": {},
   "source": [
    "### List vs Numpy Array"
   ]
  },
  {
   "cell_type": "code",
   "execution_count": 5,
   "id": "cdd8477d",
   "metadata": {},
   "outputs": [
    {
     "name": "stdout",
     "output_type": "stream",
     "text": [
      "List multiplication is: [1, 2, 3, 1, 2, 3]\n",
      "Array multiplication is: [2 4 6]\n"
     ]
    }
   ],
   "source": [
    "py_list = [1,2,3]\n",
    "np_arr = np.array([1,2,3])\n",
    "print(f\"List multiplication is: {py_list*2}\")\n",
    "print(f\"Array multiplication is: {np_arr*2}\")"
   ]
  },
  {
   "cell_type": "code",
   "execution_count": 6,
   "id": "d93199c2",
   "metadata": {},
   "outputs": [
    {
     "name": "stdout",
     "output_type": "stream",
     "text": [
      "[ 0  1  2  3  4  5  6  7  8  9 10 11 12 13 14 15 16 17 18 19 20 21 22 23\n",
      " 24 25 26 27 28 29 30 31 32 33 34 35 36 37 38 39 40 41 42 43 44 45 46 47\n",
      " 48 49 50 51 52 53 54 55 56 57 58 59 60 61 62 63 64 65 66 67 68 69 70 71\n",
      " 72 73 74 75 76 77 78 79 80 81 82 83 84 85 86 87 88 89 90 91 92 93 94 95\n",
      " 96 97 98 99]\n"
     ]
    }
   ],
   "source": [
    "np_range = np.arange(100) # stop position\n",
    "print(np_range)"
   ]
  },
  {
   "cell_type": "code",
   "execution_count": 8,
   "id": "f53457a1",
   "metadata": {},
   "outputs": [
    {
     "name": "stdout",
     "output_type": "stream",
     "text": [
      "[ 1  2  3  4  5  6  7  8  9 10 11 12 13 14 15 16 17 18 19 20 21 22 23 24\n",
      " 25 26 27 28 29 30 31 32 33 34 35 36 37 38 39 40 41 42 43 44 45 46 47 48\n",
      " 49 50 51 52 53 54 55 56 57 58 59 60 61 62 63 64 65 66 67 68 69 70 71 72\n",
      " 73 74 75 76 77 78 79 80 81 82 83 84 85 86 87 88 89 90 91 92 93 94 95 96\n",
      " 97 98 99]\n"
     ]
    }
   ],
   "source": [
    "np_range = np.arange(1,100)  # start, stop positions\n",
    "print(np_range)"
   ]
  },
  {
   "cell_type": "code",
   "execution_count": 16,
   "id": "bc51127d",
   "metadata": {},
   "outputs": [
    {
     "name": "stdout",
     "output_type": "stream",
     "text": [
      "[  2   7  12  17  22  27  32  37  42  47  52  57  62  67  72  77  82  87\n",
      "  92  97 102 107 112 117 122 127 132 137 142 147 152 157 162 167 172 177\n",
      " 182 187 192 197 202 207 212 217 222 227 232 237 242 247 252 257 262 267\n",
      " 272 277 282 287 292 297 302 307 312 317 322 327 332 337 342 347 352 357\n",
      " 362 367 372 377 382 387 392 397 402 407 412 417 422 427 432 437 442 447\n",
      " 452 457 462 467 472 477 482 487 492 497 502 507 512 517 522 527 532 537\n",
      " 542 547 552 557 562 567 572 577 582 587 592 597 602 607 612 617 622 627\n",
      " 632 637 642 647 652 657 662 667 672 677 682 687 692 697 702 707 712 717\n",
      " 722 727 732 737 742 747 752 757 762 767 772 777 782 787 792 797 802 807\n",
      " 812 817 822 827 832 837 842 847 852 857 862 867 872 877 882 887 892 897\n",
      " 902 907 912 917 922 927 932 937 942 947 952 957 962 967 972 977 982 987\n",
      " 992 997]\n"
     ]
    }
   ],
   "source": [
    "np_range = np.arange(2,1000, 5)  # start, stop, step positions\n",
    "print(np_range)"
   ]
  },
  {
   "cell_type": "code",
   "execution_count": 18,
   "id": "ede67cc3",
   "metadata": {},
   "outputs": [
    {
     "name": "stdout",
     "output_type": "stream",
     "text": [
      "[  1   3   5   7   9  11  13  15  17  19  21  23  25  27  29  31  33  35\n",
      "  37  39  41  43  45  47  49  51  53  55  57  59  61  63  65  67  69  71\n",
      "  73  75  77  79  81  83  85  87  89  91  93  95  97  99 101 103 105 107\n",
      " 109 111 113 115 117 119 121 123 125 127 129 131 133 135 137 139 141 143\n",
      " 145 147 149 151 153 155 157 159 161 163 165 167 169 171 173 175 177 179\n",
      " 181 183 185 187 189 191 193 195 197 199 201 203 205 207 209 211 213 215\n",
      " 217 219 221 223 225 227 229 231 233 235 237 239 241 243 245 247 249 251\n",
      " 253 255 257 259 261 263 265 267 269 271 273 275 277 279 281 283 285 287\n",
      " 289 291 293 295 297 299 301 303 305 307 309 311 313 315 317 319 321 323\n",
      " 325 327 329 331 333 335 337 339 341 343 345 347 349 351 353 355 357 359\n",
      " 361 363 365 367 369 371 373 375 377 379 381 383 385 387 389 391 393 395\n",
      " 397 399 401 403 405 407 409 411 413 415 417 419 421 423 425 427 429 431\n",
      " 433 435 437 439 441 443 445 447 449 451 453 455 457 459 461 463 465 467\n",
      " 469 471 473 475 477 479 481 483 485 487 489 491 493 495 497 499 501 503\n",
      " 505 507 509 511 513 515 517 519 521 523 525 527 529 531 533 535 537 539\n",
      " 541 543 545 547 549 551 553 555 557 559 561 563 565 567 569 571 573 575\n",
      " 577 579 581 583 585 587 589 591 593 595 597 599 601 603 605 607 609 611\n",
      " 613 615 617 619 621 623 625 627 629 631 633 635 637 639 641 643 645 647\n",
      " 649 651 653 655 657 659 661 663 665 667 669 671 673 675 677 679 681 683\n",
      " 685 687 689 691 693 695 697 699 701 703 705 707 709 711 713 715 717 719\n",
      " 721 723 725 727 729 731 733 735 737 739 741 743 745 747 749 751 753 755\n",
      " 757 759 761 763 765 767 769 771 773 775 777 779 781 783 785 787 789 791\n",
      " 793 795 797 799 801 803 805 807 809 811 813 815 817 819 821 823 825 827\n",
      " 829 831 833 835 837 839 841 843 845 847 849 851 853 855 857 859 861 863\n",
      " 865 867 869 871 873 875 877 879 881 883 885 887 889 891 893 895 897 899\n",
      " 901 903 905 907 909 911 913 915 917 919 921 923 925 927 929 931 933 935\n",
      " 937 939 941 943 945 947 949 951 953 955 957 959 961 963 965 967 969 971\n",
      " 973 975 977 979 981 983 985 987 989 991 993 995 997 999]\n"
     ]
    }
   ],
   "source": [
    "np_range = np.arange(1, 1000, 2)  # start, stop, step positions\n",
    "print(np_range)"
   ]
  },
  {
   "cell_type": "code",
   "execution_count": 32,
   "id": "220b7569",
   "metadata": {},
   "outputs": [
    {
     "name": "stdout",
     "output_type": "stream",
     "text": [
      "[[0. 0. 0.]\n",
      " [0. 0. 0.]\n",
      " [0. 0. 0.]]\n"
     ]
    }
   ],
   "source": [
    "np_zeros = np.zeros((3,3))\n",
    "print(np_zeros)"
   ]
  },
  {
   "cell_type": "code",
   "execution_count": 28,
   "id": "1fdbe654",
   "metadata": {},
   "outputs": [
    {
     "name": "stdout",
     "output_type": "stream",
     "text": [
      "[[0. 0. 0. 0. 0. 0. 0. 0. 0. 0.]]\n"
     ]
    }
   ],
   "source": [
    "np_zeros = np.zeros((1,10))\n",
    "print(np_zeros)"
   ]
  },
  {
   "cell_type": "code",
   "execution_count": 38,
   "id": "a7afe966",
   "metadata": {},
   "outputs": [
    {
     "name": "stdout",
     "output_type": "stream",
     "text": [
      "[[1. 1. 1.]\n",
      " [1. 1. 1.]\n",
      " [1. 1. 1.]]\n"
     ]
    }
   ],
   "source": [
    "np_ones = np.ones((3,3))\n",
    "print(np_ones)"
   ]
  },
  {
   "cell_type": "code",
   "execution_count": 35,
   "id": "84d329bf",
   "metadata": {},
   "outputs": [
    {
     "name": "stdout",
     "output_type": "stream",
     "text": [
      "[1. 1. 1. 1. 1. 1.]\n",
      "[0. 0. 0. 0. 0. 0.]\n"
     ]
    }
   ],
   "source": [
    "np_1_single = np.ones(6)\n",
    "np_1_zeros = np.zeros(6)\n",
    "print(np_1_single)\n",
    "print(np_1_zeros)"
   ]
  },
  {
   "cell_type": "code",
   "execution_count": 36,
   "id": "9a9066a8",
   "metadata": {},
   "outputs": [
    {
     "name": "stdout",
     "output_type": "stream",
     "text": [
      "[[9 9 9]\n",
      " [9 9 9]\n",
      " [9 9 9]]\n",
      "[9 9 9 9 9]\n"
     ]
    }
   ],
   "source": [
    "full_multi = np.full((3,3), 9)\n",
    "full_single = np.full(5,9)\n",
    "print(full_multi)\n",
    "print(full_single)"
   ]
  },
  {
   "cell_type": "code",
   "execution_count": 41,
   "id": "6906a06e",
   "metadata": {},
   "outputs": [
    {
     "name": "stdout",
     "output_type": "stream",
     "text": [
      "[[16. 16. 16.]\n",
      " [16. 16. 16.]\n",
      " [16. 16. 16.]]\n"
     ]
    }
   ],
   "source": [
    "sum_arr = np_zeros + np_ones + full_multi+6\n",
    "print(sum_arr)"
   ]
  },
  {
   "cell_type": "code",
   "execution_count": 42,
   "id": "8879170a",
   "metadata": {},
   "outputs": [
    {
     "name": "stdout",
     "output_type": "stream",
     "text": [
      "[0.79207284 0.41374614 0.80946285 0.13799066]\n"
     ]
    }
   ],
   "source": [
    "random_arr = np.random.random(4)\n",
    "print(random_arr)"
   ]
  },
  {
   "cell_type": "code",
   "execution_count": 47,
   "id": "89042462",
   "metadata": {},
   "outputs": [
    {
     "name": "stdout",
     "output_type": "stream",
     "text": [
      "[[0.74204607 0.67389339 0.9233362 ]\n",
      " [0.27708578 0.92951692 0.92066609]\n",
      " [0.99930688 0.88040647 0.55256544]]\n"
     ]
    }
   ],
   "source": [
    "random_arr = np.random.random((3,3))\n",
    "print(random_arr)"
   ]
  },
  {
   "cell_type": "markdown",
   "id": "b5e89ce3",
   "metadata": {},
   "source": [
    "### Vector, Matrix and Tensor"
   ]
  },
  {
   "cell_type": "code",
   "execution_count": 8,
   "id": "4be6f11e",
   "metadata": {},
   "outputs": [
    {
     "name": "stdout",
     "output_type": "stream",
     "text": [
      "Vector is: [1 2 3]\n",
      "Matrix is: [[1 2 3]\n",
      " [4 5 6]]\n"
     ]
    }
   ],
   "source": [
    "vector1 = np.array([1,2,3])\n",
    "print(f\"Vector is: {vector1}\")\n",
    "array_matrix = np.array([[1,2,3], [4,5,6]])\n",
    "print(f\"Matrix is: {array_matrix}\")"
   ]
  },
  {
   "cell_type": "code",
   "execution_count": 12,
   "id": "74d9ad8d",
   "metadata": {},
   "outputs": [
    {
     "name": "stdout",
     "output_type": "stream",
     "text": [
      "[[[1 2]\n",
      "  [3 4]]\n",
      "\n",
      " [[5 6]\n",
      "  [7 8]]]\n",
      "(2, 2, 2), 3, 8, int64\n"
     ]
    }
   ],
   "source": [
    "t1 = np.array([[[1, 2], [3, 4]],\n",
    "               [[5,6], [7,8]]])\n",
    "\n",
    "print(t1)\n",
    "\n",
    "print(f\"{t1.shape}, {t1.ndim}, {t1.size}, {t1.dtype}\")"
   ]
  },
  {
   "cell_type": "markdown",
   "id": "eccaa67e",
   "metadata": {},
   "source": [
    "### Array Properties"
   ]
  },
  {
   "cell_type": "code",
   "execution_count": 24,
   "id": "20432f19",
   "metadata": {},
   "outputs": [
    {
     "name": "stdout",
     "output_type": "stream",
     "text": [
      "Shape of the array is: (2, 3)\n",
      "Dimension of the array is: 2\n",
      "Size of the array is: 6\n",
      "Datatype of the array is: int64\n",
      "Shape of the array 2 is: (3,)\n",
      "Dimension of the array 2 is: 1\n"
     ]
    }
   ],
   "source": [
    "arr_properties = np.array([[1,2,3], [4,5,6]])\n",
    "arr_properties_2 = np.array([1,2,3])\n",
    "print(f\"Shape of the array is: {arr_properties.shape}\")\n",
    "print(f\"Dimension of the array is: {arr_properties.ndim}\")\n",
    "print(f\"Size of the array is: {arr_properties.size}\")\n",
    "print(f\"Datatype of the array is: {arr_properties.dtype}\")\n",
    "\n",
    "print(f\"Shape of the array 2 is: {arr_properties_2.shape}\")\n",
    "print(f\"Dimension of the array 2 is: {arr_properties_2.ndim}\")"
   ]
  },
  {
   "cell_type": "markdown",
   "id": "da1761b4",
   "metadata": {},
   "source": [
    "### Array Reshaping"
   ]
  },
  {
   "cell_type": "code",
   "execution_count": 21,
   "id": "7d335d1a",
   "metadata": {},
   "outputs": [
    {
     "name": "stdout",
     "output_type": "stream",
     "text": [
      "The Orifinal Array is:\n",
      "[ 0  1  2  3  4  5  6  7  8  9 10 11]\n",
      "[[ 0  1  2  3]\n",
      " [ 4  5  6  7]\n",
      " [ 8  9 10 11]]\n"
     ]
    }
   ],
   "source": [
    "og_arr = np.arange(12)\n",
    "print(f\"The Orifinal Array is:\\n{og_arr}\")\n",
    "rshape_arr = og_arr.reshape((3,4))\n",
    "print(rshape_arr)"
   ]
  },
  {
   "cell_type": "markdown",
   "id": "414d9616",
   "metadata": {},
   "source": [
    "### Array Flatening"
   ]
  },
  {
   "cell_type": "code",
   "execution_count": 25,
   "id": "e69f0631",
   "metadata": {},
   "outputs": [
    {
     "name": "stdout",
     "output_type": "stream",
     "text": [
      "[ 0  1  2  3  4  5  6  7  8  9 10 11]\n"
     ]
    }
   ],
   "source": [
    "flatten_arr = rshape_arr.flatten()\n",
    "print(flatten_arr)"
   ]
  },
  {
   "cell_type": "code",
   "execution_count": null,
   "id": "c5d35a0e",
   "metadata": {},
   "outputs": [],
   "source": []
  }
 ],
 "metadata": {
  "kernelspec": {
   "display_name": "venv (3.13.3)",
   "language": "python",
   "name": "python3"
  },
  "language_info": {
   "codemirror_mode": {
    "name": "ipython",
    "version": 3
   },
   "file_extension": ".py",
   "mimetype": "text/x-python",
   "name": "python",
   "nbconvert_exporter": "python",
   "pygments_lexer": "ipython3",
   "version": "3.13.3"
  }
 },
 "nbformat": 4,
 "nbformat_minor": 5
}
