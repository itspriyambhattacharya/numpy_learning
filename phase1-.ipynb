{
 "cells": [
  {
   "cell_type": "code",
   "execution_count": null,
   "id": "dc3ccd01",
   "metadata": {},
   "outputs": [],
   "source": [
    "## Learning Numpy for the first time.\n",
    "## Numpy Array Basics\n",
    "## Day 1"
   ]
  },
  {
   "cell_type": "code",
   "execution_count": 3,
   "id": "317971b2",
   "metadata": {},
   "outputs": [],
   "source": [
    "import numpy as np"
   ]
  },
  {
   "cell_type": "markdown",
   "id": "8712cf85",
   "metadata": {},
   "source": [
    "### Creating Array from List"
   ]
  },
  {
   "cell_type": "code",
   "execution_count": 4,
   "id": "81245d7f",
   "metadata": {},
   "outputs": [
    {
     "name": "stdout",
     "output_type": "stream",
     "text": [
      "1D array is: [1 2 3 4 5]\n",
      "2D array is: [[1 2 3]\n",
      " [4 5 6]]\n"
     ]
    }
   ],
   "source": [
    "arr_1D = np.array([1,2,3,4,5])\n",
    "arr_2D = np.array([[1,2,3], [4,5,6]])\n",
    "print(f\"1D array is: {arr_1D}\")\n",
    "print(f\"2D array is: {arr_2D}\")"
   ]
  },
  {
   "cell_type": "markdown",
   "id": "b55dcae9",
   "metadata": {},
   "source": [
    "### List vs Numpy Array"
   ]
  },
  {
   "cell_type": "code",
   "execution_count": 5,
   "id": "cdd8477d",
   "metadata": {},
   "outputs": [
    {
     "name": "stdout",
     "output_type": "stream",
     "text": [
      "List multiplication is: [1, 2, 3, 1, 2, 3]\n",
      "Array multiplication is: [2 4 6]\n"
     ]
    }
   ],
   "source": [
    "py_list = [1,2,3]\n",
    "np_arr = np.array([1,2,3])\n",
    "print(f\"List multiplication is: {py_list*2}\")\n",
    "print(f\"Array multiplication is: {np_arr*2}\")"
   ]
  },
  {
   "cell_type": "code",
   "execution_count": 6,
   "id": "d93199c2",
   "metadata": {},
   "outputs": [
    {
     "name": "stdout",
     "output_type": "stream",
     "text": [
      "[ 0  1  2  3  4  5  6  7  8  9 10 11 12 13 14 15 16 17 18 19 20 21 22 23\n",
      " 24 25 26 27 28 29 30 31 32 33 34 35 36 37 38 39 40 41 42 43 44 45 46 47\n",
      " 48 49 50 51 52 53 54 55 56 57 58 59 60 61 62 63 64 65 66 67 68 69 70 71\n",
      " 72 73 74 75 76 77 78 79 80 81 82 83 84 85 86 87 88 89 90 91 92 93 94 95\n",
      " 96 97 98 99]\n"
     ]
    }
   ],
   "source": [
    "np_range = np.arange(100) # stop position\n",
    "print(np_range)"
   ]
  },
  {
   "cell_type": "code",
   "execution_count": 8,
   "id": "f53457a1",
   "metadata": {},
   "outputs": [
    {
     "name": "stdout",
     "output_type": "stream",
     "text": [
      "[ 1  2  3  4  5  6  7  8  9 10 11 12 13 14 15 16 17 18 19 20 21 22 23 24\n",
      " 25 26 27 28 29 30 31 32 33 34 35 36 37 38 39 40 41 42 43 44 45 46 47 48\n",
      " 49 50 51 52 53 54 55 56 57 58 59 60 61 62 63 64 65 66 67 68 69 70 71 72\n",
      " 73 74 75 76 77 78 79 80 81 82 83 84 85 86 87 88 89 90 91 92 93 94 95 96\n",
      " 97 98 99]\n"
     ]
    }
   ],
   "source": [
    "np_range = np.arange(1,100)  # start, stop positions\n",
    "print(np_range)"
   ]
  },
  {
   "cell_type": "code",
   "execution_count": 15,
   "id": "bc51127d",
   "metadata": {},
   "outputs": [
    {
     "name": "stdout",
     "output_type": "stream",
     "text": [
      "[  5  10  15  20  25  30  35  40  45  50  55  60  65  70  75  80  85  90\n",
      "  95 100 105 110 115 120 125 130 135 140 145 150 155 160 165 170 175 180\n",
      " 185 190 195 200 205 210 215 220 225 230 235 240 245 250 255 260 265 270\n",
      " 275 280 285 290 295 300 305 310 315 320 325 330 335 340 345 350 355 360\n",
      " 365 370 375 380 385 390 395 400 405 410 415 420 425 430 435 440 445 450\n",
      " 455 460 465 470 475 480 485 490 495 500 505 510 515 520 525 530 535 540\n",
      " 545 550 555 560 565 570 575 580 585 590 595 600 605 610 615 620 625 630\n",
      " 635 640 645 650 655 660 665 670 675 680 685 690 695 700 705 710 715 720\n",
      " 725 730 735 740 745 750 755 760 765 770 775 780 785 790 795 800 805 810\n",
      " 815 820 825 830 835 840 845 850 855 860 865 870 875 880 885 890 895 900\n",
      " 905 910 915 920 925 930 935 940 945 950 955 960 965 970 975 980 985 990\n",
      " 995]\n"
     ]
    }
   ],
   "source": [
    "np_range = np.arange(5,1000, 5)  # start, stop, step positions\n",
    "print(np_range)"
   ]
  }
 ],
 "metadata": {
  "kernelspec": {
   "display_name": "venv (3.13.3)",
   "language": "python",
   "name": "python3"
  },
  "language_info": {
   "codemirror_mode": {
    "name": "ipython",
    "version": 3
   },
   "file_extension": ".py",
   "mimetype": "text/x-python",
   "name": "python",
   "nbconvert_exporter": "python",
   "pygments_lexer": "ipython3",
   "version": "3.13.3"
  }
 },
 "nbformat": 4,
 "nbformat_minor": 5
}
